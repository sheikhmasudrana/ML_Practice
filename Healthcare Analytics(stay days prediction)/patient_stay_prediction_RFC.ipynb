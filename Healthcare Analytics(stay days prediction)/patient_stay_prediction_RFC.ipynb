{
 "cells": [
  {
   "cell_type": "code",
   "execution_count": 36,
   "metadata": {},
   "outputs": [],
   "source": [
    "# For Data reading \n",
    "import pandas as pd\n",
    "import numpy as np\n",
    "\n",
    "# For data visualization\n",
    "import matplotlib.pyplot as plt\n",
    "import seaborn as sns\n",
    "\n",
    "\n",
    "# For Feature Scaling & Feature Importance\n",
    "from sklearn.preprocessing import MinMaxScaler\n",
    "from sklearn.ensemble import ExtraTreesRegressor\n",
    "\n",
    "# For model building & scoreing\n",
    "from sklearn.ensemble import RandomForestClassifier\n",
    "from sklearn.model_selection import cross_val_score\n",
    "# from sklearn.metrics import accuracy_score\n",
    "\n",
    "\n",
    "# others\n",
    "import warnings\n",
    "warnings.filterwarnings('ignore')"
   ]
  },
  {
   "cell_type": "code",
   "execution_count": 37,
   "metadata": {},
   "outputs": [],
   "source": [
    "# for showing all columns & rows\n",
    "pd.set_option(\"display.max_columns\", None)\n",
    "pd.set_option(\"display.max_rows\", None)"
   ]
  },
  {
   "cell_type": "code",
   "execution_count": 38,
   "metadata": {},
   "outputs": [],
   "source": [
    "train_df = pd.read_csv(r\"https://drive.google.com/uc?export=download&id=1-2fIjH4CxFxf4Q3je62Kqxofp89DLl4N\")\n",
    "test_df = pd.read_csv(r\"https://drive.google.com/uc?export=download&id=1bR0WcWp9rYSeqnU17nkWs_yFRsNxPU1J\")\n",
    "train_dict = pd.read_csv(r\"https://drive.google.com/uc?export=download&id=15qfW-ZHLoceEkf97aJ2haYFt1JBTVqpq\")"
   ]
  },
  {
   "cell_type": "markdown",
   "metadata": {},
   "source": [
    "### Handle Missing value of features "
   ]
  },
  {
   "cell_type": "code",
   "execution_count": 32,
   "metadata": {
    "scrolled": true
   },
   "outputs": [
    {
     "name": "stdout",
     "output_type": "stream",
     "text": [
      "Train Dataset:::::::::::::::\n",
      "City_Code_Hospital                   0\n",
      "Hospital_region_code                 0\n",
      "Available Extra Rooms in Hospital    0\n",
      "Department                           0\n",
      "Ward_Type                            0\n",
      "Ward_Facility_Code                   0\n",
      "Bed Grade                            0\n",
      "City_Code_Patient                    0\n",
      "Type of Admission                    0\n",
      "Severity of Illness                  0\n",
      "Visitors with Patient                0\n",
      "Age                                  0\n",
      "Admission_Deposit                    0\n",
      "Stay                                 0\n",
      "dtype: int64\n",
      "=========================================\n",
      "Test Dataset::::::::::::::::\n",
      "City_Code_Hospital                   0\n",
      "Hospital_region_code                 0\n",
      "Available Extra Rooms in Hospital    0\n",
      "Department                           0\n",
      "Ward_Type                            0\n",
      "Ward_Facility_Code                   0\n",
      "Bed Grade                            0\n",
      "City_Code_Patient                    0\n",
      "Type of Admission                    0\n",
      "Severity of Illness                  0\n",
      "Visitors with Patient                0\n",
      "Age                                  0\n",
      "Admission_Deposit                    0\n",
      "dtype: int64\n"
     ]
    }
   ],
   "source": [
    "# Let's check missing values\n",
    "print('Train Dataset:::::::::::::::')\n",
    "print(train_df.isnull().sum())\n",
    "print(\"=========================================\")\n",
    "print('Test Dataset::::::::::::::::')\n",
    "print(test_df.isnull().sum())"
   ]
  },
  {
   "cell_type": "code",
   "execution_count": 4,
   "metadata": {},
   "outputs": [],
   "source": [
    "# Find features of missing values \n",
    "def NaNFeature(df):\n",
    "    nan_feature = [n for n in df.columns if df[n].isnull().sum()>=1]\n",
    "    return nan_feature"
   ]
  },
  {
   "cell_type": "code",
   "execution_count": 5,
   "metadata": {},
   "outputs": [],
   "source": [
    "# Let's fill missing values of train detaset \n",
    "nan_features_train = NaNFeature(train_df)\n",
    "for fillnan in nan_features_train:\n",
    "    train_df[fillnan].fillna(train_df[fillnan].mode()[0], inplace=True)"
   ]
  },
  {
   "cell_type": "code",
   "execution_count": 6,
   "metadata": {},
   "outputs": [],
   "source": [
    "# Let's fill missing values of test detaset \n",
    "nan_features_test = NaNFeature(test_df)\n",
    "for fillnan in nan_features_test:\n",
    "    test_df[fillnan].fillna(test_df[fillnan].mode()[0], inplace=True)"
   ]
  },
  {
   "cell_type": "code",
   "execution_count": 31,
   "metadata": {
    "scrolled": true
   },
   "outputs": [
    {
     "name": "stdout",
     "output_type": "stream",
     "text": [
      "Train Dataset:::::::::::::::\n",
      "City_Code_Hospital                   0.0\n",
      "Hospital_region_code                 0.0\n",
      "Available Extra Rooms in Hospital    0.0\n",
      "Department                           0.0\n",
      "Ward_Type                            0.0\n",
      "Ward_Facility_Code                   0.0\n",
      "Bed Grade                            0.0\n",
      "City_Code_Patient                    0.0\n",
      "Type of Admission                    0.0\n",
      "Severity of Illness                  0.0\n",
      "Visitors with Patient                0.0\n",
      "Age                                  0.0\n",
      "Admission_Deposit                    0.0\n",
      "Stay                                 0.0\n",
      "dtype: float64\n",
      "=========================================\n",
      "Test Dataset:::::::::::::::\n",
      "City_Code_Hospital                   0.0\n",
      "Hospital_region_code                 0.0\n",
      "Available Extra Rooms in Hospital    0.0\n",
      "Department                           0.0\n",
      "Ward_Type                            0.0\n",
      "Ward_Facility_Code                   0.0\n",
      "Bed Grade                            0.0\n",
      "City_Code_Patient                    0.0\n",
      "Type of Admission                    0.0\n",
      "Severity of Illness                  0.0\n",
      "Visitors with Patient                0.0\n",
      "Age                                  0.0\n",
      "Admission_Deposit                    0.0\n",
      "dtype: float64\n"
     ]
    }
   ],
   "source": [
    "# Lets check missing values percentage\n",
    "print('Train Dataset:::::::::::::::')\n",
    "print(np.round(train_df.isnull().sum() * 100 / len(train_df), 4))\n",
    "print(\"=========================================\")\n",
    "print('Test Dataset:::::::::::::::')\n",
    "print(np.round(test_df.isnull().sum() * 100 / len(test_df), 4))"
   ]
  },
  {
   "cell_type": "markdown",
   "metadata": {},
   "source": [
    "### Handle categorical features "
   ]
  },
  {
   "cell_type": "code",
   "execution_count": 8,
   "metadata": {},
   "outputs": [],
   "source": [
    "# Let's Find out categorical features through a function\n",
    "def CatFeatures(df):\n",
    "    features = [feature for feature in df.columns if df[feature].dtypes == \"O\"]\n",
    "    return features"
   ]
  },
  {
   "cell_type": "code",
   "execution_count": 9,
   "metadata": {},
   "outputs": [
    {
     "data": {
      "text/plain": [
       "['Hospital_type_code',\n",
       " 'Hospital_region_code',\n",
       " 'Department',\n",
       " 'Ward_Type',\n",
       " 'Ward_Facility_Code',\n",
       " 'Type of Admission',\n",
       " 'Severity of Illness',\n",
       " 'Age',\n",
       " 'Stay']"
      ]
     },
     "execution_count": 9,
     "metadata": {},
     "output_type": "execute_result"
    }
   ],
   "source": [
    "# categorical features of train dataset\n",
    "cat_features_train = CatFeatures(train_df)\n",
    "cat_features_train"
   ]
  },
  {
   "cell_type": "code",
   "execution_count": null,
   "metadata": {},
   "outputs": [],
   "source": [
    "# ?Let's check unique value of categorical features of train data\n",
    "for i in cat_features_train:\n",
    "    print(train_df[i].unique())"
   ]
  },
  {
   "cell_type": "code",
   "execution_count": 10,
   "metadata": {
    "scrolled": true
   },
   "outputs": [
    {
     "data": {
      "text/plain": [
       "['Hospital_type_code',\n",
       " 'Hospital_region_code',\n",
       " 'Department',\n",
       " 'Ward_Type',\n",
       " 'Ward_Facility_Code',\n",
       " 'Type of Admission',\n",
       " 'Severity of Illness',\n",
       " 'Age']"
      ]
     },
     "execution_count": 10,
     "metadata": {},
     "output_type": "execute_result"
    }
   ],
   "source": [
    "# categorical features of test dataset\n",
    "cat_features_test = CatFeatures(test_df)\n",
    "cat_features_test"
   ]
  },
  {
   "cell_type": "code",
   "execution_count": null,
   "metadata": {},
   "outputs": [],
   "source": [
    "for i in cat_features_test:\n",
    "    print(test_df[i].unique())"
   ]
  },
  {
   "cell_type": "code",
   "execution_count": 11,
   "metadata": {},
   "outputs": [],
   "source": [
    "# # Let's create a function to handle categorical features \n",
    "def CatToNumaric():\n",
    "    # Handle categorical feature of train dataset\n",
    "    for n in cat_features_train:\n",
    "        num_data = dict(zip(train_df[n].unique(), range(len(train_df[n].unique()))))\n",
    "        train_df[n] = train_df[n].map(num_data) # or train_df[n].replace(num_data, inplace=True)\n",
    "        \n",
    "    # Handle categorical features of test dataset\n",
    "    for n in cat_features_test:\n",
    "        num_data = dict(zip(test_df[n].unique(), range(len(test_df[n].unique()))))\n",
    "        test_df[n] = test_df[n].map(num_data) # or test_df[n].replace(num_data, inplace=True)"
   ]
  },
  {
   "cell_type": "code",
   "execution_count": 12,
   "metadata": {
    "scrolled": true
   },
   "outputs": [
    {
     "name": "stdout",
     "output_type": "stream",
     "text": [
      "case_id                                int64\n",
      "Hospital_code                          int64\n",
      "Hospital_type_code                     int64\n",
      "City_Code_Hospital                     int64\n",
      "Hospital_region_code                   int64\n",
      "Available Extra Rooms in Hospital      int64\n",
      "Department                             int64\n",
      "Ward_Type                              int64\n",
      "Ward_Facility_Code                     int64\n",
      "Bed Grade                            float64\n",
      "patientid                              int64\n",
      "City_Code_Patient                    float64\n",
      "Type of Admission                      int64\n",
      "Severity of Illness                    int64\n",
      "Visitors with Patient                  int64\n",
      "Age                                    int64\n",
      "Admission_Deposit                    float64\n",
      "Stay                                   int64\n",
      "dtype: object\n",
      "=====================================\n",
      "case_id                                int64\n",
      "Hospital_code                          int64\n",
      "Hospital_type_code                     int64\n",
      "City_Code_Hospital                     int64\n",
      "Hospital_region_code                   int64\n",
      "Available Extra Rooms in Hospital      int64\n",
      "Department                             int64\n",
      "Ward_Type                              int64\n",
      "Ward_Facility_Code                     int64\n",
      "Bed Grade                            float64\n",
      "patientid                              int64\n",
      "City_Code_Patient                    float64\n",
      "Type of Admission                      int64\n",
      "Severity of Illness                    int64\n",
      "Visitors with Patient                  int64\n",
      "Age                                    int64\n",
      "Admission_Deposit                    float64\n",
      "dtype: object\n"
     ]
    }
   ],
   "source": [
    "# Let's check features data types\n",
    "CatToNumaric()\n",
    "print(train_df.dtypes)\n",
    "print(\"=====================================\")\n",
    "print(test_df.dtypes)"
   ]
  },
  {
   "cell_type": "code",
   "execution_count": null,
   "metadata": {},
   "outputs": [],
   "source": [
    "# Let's copy the test dataset\n",
    "copy_test_df = test_df"
   ]
  },
  {
   "cell_type": "code",
   "execution_count": null,
   "metadata": {},
   "outputs": [],
   "source": [
    "# Let's see the train dictionary data to drop un necessary features\n",
    "train_dict"
   ]
  },
  {
   "cell_type": "code",
   "execution_count": 13,
   "metadata": {},
   "outputs": [],
   "source": [
    "# Lets drop features those are necessary so much\n",
    "def DropFeatures(df):\n",
    "    drop_features = {'case_id', 'Hospital_code', 'Hospital_type_code', 'patientid'}\n",
    "    df.drop(drop_features, axis=1, inplace=True)\n",
    "    return df"
   ]
  },
  {
   "cell_type": "code",
   "execution_count": 14,
   "metadata": {},
   "outputs": [
    {
     "data": {
      "text/html": [
       "<div>\n",
       "<style scoped>\n",
       "    .dataframe tbody tr th:only-of-type {\n",
       "        vertical-align: middle;\n",
       "    }\n",
       "\n",
       "    .dataframe tbody tr th {\n",
       "        vertical-align: top;\n",
       "    }\n",
       "\n",
       "    .dataframe thead th {\n",
       "        text-align: right;\n",
       "    }\n",
       "</style>\n",
       "<table border=\"1\" class=\"dataframe\">\n",
       "  <thead>\n",
       "    <tr style=\"text-align: right;\">\n",
       "      <th></th>\n",
       "      <th>City_Code_Hospital</th>\n",
       "      <th>Hospital_region_code</th>\n",
       "      <th>Available Extra Rooms in Hospital</th>\n",
       "      <th>Department</th>\n",
       "      <th>Ward_Type</th>\n",
       "      <th>Ward_Facility_Code</th>\n",
       "      <th>Bed Grade</th>\n",
       "      <th>City_Code_Patient</th>\n",
       "      <th>Type of Admission</th>\n",
       "      <th>Severity of Illness</th>\n",
       "      <th>Visitors with Patient</th>\n",
       "      <th>Age</th>\n",
       "      <th>Admission_Deposit</th>\n",
       "      <th>Stay</th>\n",
       "    </tr>\n",
       "  </thead>\n",
       "  <tbody>\n",
       "    <tr>\n",
       "      <th>0</th>\n",
       "      <td>3</td>\n",
       "      <td>0</td>\n",
       "      <td>3</td>\n",
       "      <td>0</td>\n",
       "      <td>0</td>\n",
       "      <td>0</td>\n",
       "      <td>2.0</td>\n",
       "      <td>7.0</td>\n",
       "      <td>0</td>\n",
       "      <td>0</td>\n",
       "      <td>2</td>\n",
       "      <td>0</td>\n",
       "      <td>4911.0</td>\n",
       "      <td>0</td>\n",
       "    </tr>\n",
       "    <tr>\n",
       "      <th>1</th>\n",
       "      <td>5</td>\n",
       "      <td>0</td>\n",
       "      <td>2</td>\n",
       "      <td>0</td>\n",
       "      <td>1</td>\n",
       "      <td>0</td>\n",
       "      <td>2.0</td>\n",
       "      <td>7.0</td>\n",
       "      <td>1</td>\n",
       "      <td>0</td>\n",
       "      <td>2</td>\n",
       "      <td>0</td>\n",
       "      <td>5954.0</td>\n",
       "      <td>1</td>\n",
       "    </tr>\n",
       "    <tr>\n",
       "      <th>2</th>\n",
       "      <td>1</td>\n",
       "      <td>1</td>\n",
       "      <td>2</td>\n",
       "      <td>1</td>\n",
       "      <td>1</td>\n",
       "      <td>1</td>\n",
       "      <td>2.0</td>\n",
       "      <td>7.0</td>\n",
       "      <td>1</td>\n",
       "      <td>0</td>\n",
       "      <td>2</td>\n",
       "      <td>0</td>\n",
       "      <td>4745.0</td>\n",
       "      <td>2</td>\n",
       "    </tr>\n",
       "    <tr>\n",
       "      <th>3</th>\n",
       "      <td>2</td>\n",
       "      <td>2</td>\n",
       "      <td>2</td>\n",
       "      <td>0</td>\n",
       "      <td>0</td>\n",
       "      <td>2</td>\n",
       "      <td>2.0</td>\n",
       "      <td>7.0</td>\n",
       "      <td>1</td>\n",
       "      <td>0</td>\n",
       "      <td>2</td>\n",
       "      <td>0</td>\n",
       "      <td>7272.0</td>\n",
       "      <td>1</td>\n",
       "    </tr>\n",
       "    <tr>\n",
       "      <th>4</th>\n",
       "      <td>2</td>\n",
       "      <td>2</td>\n",
       "      <td>2</td>\n",
       "      <td>0</td>\n",
       "      <td>1</td>\n",
       "      <td>2</td>\n",
       "      <td>2.0</td>\n",
       "      <td>7.0</td>\n",
       "      <td>1</td>\n",
       "      <td>0</td>\n",
       "      <td>2</td>\n",
       "      <td>0</td>\n",
       "      <td>5558.0</td>\n",
       "      <td>1</td>\n",
       "    </tr>\n",
       "  </tbody>\n",
       "</table>\n",
       "</div>"
      ],
      "text/plain": [
       "   City_Code_Hospital  Hospital_region_code  \\\n",
       "0                   3                     0   \n",
       "1                   5                     0   \n",
       "2                   1                     1   \n",
       "3                   2                     2   \n",
       "4                   2                     2   \n",
       "\n",
       "   Available Extra Rooms in Hospital  Department  Ward_Type  \\\n",
       "0                                  3           0          0   \n",
       "1                                  2           0          1   \n",
       "2                                  2           1          1   \n",
       "3                                  2           0          0   \n",
       "4                                  2           0          1   \n",
       "\n",
       "   Ward_Facility_Code  Bed Grade  City_Code_Patient  Type of Admission  \\\n",
       "0                   0        2.0                7.0                  0   \n",
       "1                   0        2.0                7.0                  1   \n",
       "2                   1        2.0                7.0                  1   \n",
       "3                   2        2.0                7.0                  1   \n",
       "4                   2        2.0                7.0                  1   \n",
       "\n",
       "   Severity of Illness  Visitors with Patient  Age  Admission_Deposit  Stay  \n",
       "0                    0                      2    0             4911.0     0  \n",
       "1                    0                      2    0             5954.0     1  \n",
       "2                    0                      2    0             4745.0     2  \n",
       "3                    0                      2    0             7272.0     1  \n",
       "4                    0                      2    0             5558.0     1  "
      ]
     },
     "execution_count": 14,
     "metadata": {},
     "output_type": "execute_result"
    }
   ],
   "source": [
    "# Show train dataset\n",
    "train_data = DropFeatures(train_df)\n",
    "train_data.head()"
   ]
  },
  {
   "cell_type": "code",
   "execution_count": 15,
   "metadata": {},
   "outputs": [
    {
     "data": {
      "text/html": [
       "<div>\n",
       "<style scoped>\n",
       "    .dataframe tbody tr th:only-of-type {\n",
       "        vertical-align: middle;\n",
       "    }\n",
       "\n",
       "    .dataframe tbody tr th {\n",
       "        vertical-align: top;\n",
       "    }\n",
       "\n",
       "    .dataframe thead th {\n",
       "        text-align: right;\n",
       "    }\n",
       "</style>\n",
       "<table border=\"1\" class=\"dataframe\">\n",
       "  <thead>\n",
       "    <tr style=\"text-align: right;\">\n",
       "      <th></th>\n",
       "      <th>City_Code_Hospital</th>\n",
       "      <th>Hospital_region_code</th>\n",
       "      <th>Available Extra Rooms in Hospital</th>\n",
       "      <th>Department</th>\n",
       "      <th>Ward_Type</th>\n",
       "      <th>Ward_Facility_Code</th>\n",
       "      <th>Bed Grade</th>\n",
       "      <th>City_Code_Patient</th>\n",
       "      <th>Type of Admission</th>\n",
       "      <th>Severity of Illness</th>\n",
       "      <th>Visitors with Patient</th>\n",
       "      <th>Age</th>\n",
       "      <th>Admission_Deposit</th>\n",
       "    </tr>\n",
       "  </thead>\n",
       "  <tbody>\n",
       "    <tr>\n",
       "      <th>0</th>\n",
       "      <td>3</td>\n",
       "      <td>0</td>\n",
       "      <td>3</td>\n",
       "      <td>0</td>\n",
       "      <td>0</td>\n",
       "      <td>0</td>\n",
       "      <td>2.0</td>\n",
       "      <td>2.0</td>\n",
       "      <td>0</td>\n",
       "      <td>0</td>\n",
       "      <td>2</td>\n",
       "      <td>0</td>\n",
       "      <td>3095.0</td>\n",
       "    </tr>\n",
       "    <tr>\n",
       "      <th>1</th>\n",
       "      <td>4</td>\n",
       "      <td>1</td>\n",
       "      <td>2</td>\n",
       "      <td>0</td>\n",
       "      <td>0</td>\n",
       "      <td>1</td>\n",
       "      <td>2.0</td>\n",
       "      <td>2.0</td>\n",
       "      <td>1</td>\n",
       "      <td>0</td>\n",
       "      <td>4</td>\n",
       "      <td>0</td>\n",
       "      <td>4018.0</td>\n",
       "    </tr>\n",
       "    <tr>\n",
       "      <th>2</th>\n",
       "      <td>2</td>\n",
       "      <td>2</td>\n",
       "      <td>3</td>\n",
       "      <td>0</td>\n",
       "      <td>1</td>\n",
       "      <td>2</td>\n",
       "      <td>4.0</td>\n",
       "      <td>2.0</td>\n",
       "      <td>0</td>\n",
       "      <td>0</td>\n",
       "      <td>3</td>\n",
       "      <td>0</td>\n",
       "      <td>4492.0</td>\n",
       "    </tr>\n",
       "    <tr>\n",
       "      <th>3</th>\n",
       "      <td>6</td>\n",
       "      <td>1</td>\n",
       "      <td>3</td>\n",
       "      <td>0</td>\n",
       "      <td>1</td>\n",
       "      <td>1</td>\n",
       "      <td>2.0</td>\n",
       "      <td>2.0</td>\n",
       "      <td>1</td>\n",
       "      <td>0</td>\n",
       "      <td>3</td>\n",
       "      <td>0</td>\n",
       "      <td>4173.0</td>\n",
       "    </tr>\n",
       "    <tr>\n",
       "      <th>4</th>\n",
       "      <td>11</td>\n",
       "      <td>1</td>\n",
       "      <td>2</td>\n",
       "      <td>0</td>\n",
       "      <td>2</td>\n",
       "      <td>1</td>\n",
       "      <td>2.0</td>\n",
       "      <td>2.0</td>\n",
       "      <td>1</td>\n",
       "      <td>0</td>\n",
       "      <td>4</td>\n",
       "      <td>0</td>\n",
       "      <td>4161.0</td>\n",
       "    </tr>\n",
       "  </tbody>\n",
       "</table>\n",
       "</div>"
      ],
      "text/plain": [
       "   City_Code_Hospital  Hospital_region_code  \\\n",
       "0                   3                     0   \n",
       "1                   4                     1   \n",
       "2                   2                     2   \n",
       "3                   6                     1   \n",
       "4                  11                     1   \n",
       "\n",
       "   Available Extra Rooms in Hospital  Department  Ward_Type  \\\n",
       "0                                  3           0          0   \n",
       "1                                  2           0          0   \n",
       "2                                  3           0          1   \n",
       "3                                  3           0          1   \n",
       "4                                  2           0          2   \n",
       "\n",
       "   Ward_Facility_Code  Bed Grade  City_Code_Patient  Type of Admission  \\\n",
       "0                   0        2.0                2.0                  0   \n",
       "1                   1        2.0                2.0                  1   \n",
       "2                   2        4.0                2.0                  0   \n",
       "3                   1        2.0                2.0                  1   \n",
       "4                   1        2.0                2.0                  1   \n",
       "\n",
       "   Severity of Illness  Visitors with Patient  Age  Admission_Deposit  \n",
       "0                    0                      2    0             3095.0  \n",
       "1                    0                      4    0             4018.0  \n",
       "2                    0                      3    0             4492.0  \n",
       "3                    0                      3    0             4173.0  \n",
       "4                    0                      4    0             4161.0  "
      ]
     },
     "execution_count": 15,
     "metadata": {},
     "output_type": "execute_result"
    }
   ],
   "source": [
    "# Show test dataset\n",
    "test_data = DropFeatures(test_df)\n",
    "test_data.head()"
   ]
  },
  {
   "cell_type": "markdown",
   "metadata": {},
   "source": [
    "### Feature Scaling (MinMax Scaler)"
   ]
  },
  {
   "cell_type": "code",
   "execution_count": 16,
   "metadata": {},
   "outputs": [],
   "source": [
    "# create X_train & X_test for feature scaling \n",
    "X_train = train_data.iloc[: , :-1]\n",
    "X_test = test_data\n",
    "\n",
    "# y_train (depended feature)\n",
    "y_train = train_data.iloc[: , -1]"
   ]
  },
  {
   "cell_type": "code",
   "execution_count": 17,
   "metadata": {},
   "outputs": [],
   "source": [
    "# create function for scaling X_ data \n",
    "def FeatureScaler(df):\n",
    "    min_max = MinMaxScaler()\n",
    "    df = pd.DataFrame(min_max.fit_transform(df), columns=df.columns)\n",
    "    return df"
   ]
  },
  {
   "cell_type": "code",
   "execution_count": 18,
   "metadata": {},
   "outputs": [
    {
     "data": {
      "text/html": [
       "<div>\n",
       "<style scoped>\n",
       "    .dataframe tbody tr th:only-of-type {\n",
       "        vertical-align: middle;\n",
       "    }\n",
       "\n",
       "    .dataframe tbody tr th {\n",
       "        vertical-align: top;\n",
       "    }\n",
       "\n",
       "    .dataframe thead th {\n",
       "        text-align: right;\n",
       "    }\n",
       "</style>\n",
       "<table border=\"1\" class=\"dataframe\">\n",
       "  <thead>\n",
       "    <tr style=\"text-align: right;\">\n",
       "      <th></th>\n",
       "      <th>City_Code_Hospital</th>\n",
       "      <th>Hospital_region_code</th>\n",
       "      <th>Available Extra Rooms in Hospital</th>\n",
       "      <th>Department</th>\n",
       "      <th>Ward_Type</th>\n",
       "      <th>Ward_Facility_Code</th>\n",
       "      <th>Bed Grade</th>\n",
       "      <th>City_Code_Patient</th>\n",
       "      <th>Type of Admission</th>\n",
       "      <th>Severity of Illness</th>\n",
       "      <th>Visitors with Patient</th>\n",
       "      <th>Age</th>\n",
       "      <th>Admission_Deposit</th>\n",
       "    </tr>\n",
       "  </thead>\n",
       "  <tbody>\n",
       "    <tr>\n",
       "      <th>0</th>\n",
       "      <td>0.166667</td>\n",
       "      <td>0.0</td>\n",
       "      <td>0.125000</td>\n",
       "      <td>0.00</td>\n",
       "      <td>0.0</td>\n",
       "      <td>0.0</td>\n",
       "      <td>0.333333</td>\n",
       "      <td>0.162162</td>\n",
       "      <td>0.0</td>\n",
       "      <td>0.0</td>\n",
       "      <td>0.0625</td>\n",
       "      <td>0.0</td>\n",
       "      <td>0.337858</td>\n",
       "    </tr>\n",
       "    <tr>\n",
       "      <th>1</th>\n",
       "      <td>0.333333</td>\n",
       "      <td>0.0</td>\n",
       "      <td>0.083333</td>\n",
       "      <td>0.00</td>\n",
       "      <td>0.2</td>\n",
       "      <td>0.0</td>\n",
       "      <td>0.333333</td>\n",
       "      <td>0.162162</td>\n",
       "      <td>0.5</td>\n",
       "      <td>0.0</td>\n",
       "      <td>0.0625</td>\n",
       "      <td>0.0</td>\n",
       "      <td>0.451129</td>\n",
       "    </tr>\n",
       "    <tr>\n",
       "      <th>2</th>\n",
       "      <td>0.000000</td>\n",
       "      <td>0.5</td>\n",
       "      <td>0.083333</td>\n",
       "      <td>0.25</td>\n",
       "      <td>0.2</td>\n",
       "      <td>0.2</td>\n",
       "      <td>0.333333</td>\n",
       "      <td>0.162162</td>\n",
       "      <td>0.5</td>\n",
       "      <td>0.0</td>\n",
       "      <td>0.0625</td>\n",
       "      <td>0.0</td>\n",
       "      <td>0.319831</td>\n",
       "    </tr>\n",
       "    <tr>\n",
       "      <th>3</th>\n",
       "      <td>0.083333</td>\n",
       "      <td>1.0</td>\n",
       "      <td>0.083333</td>\n",
       "      <td>0.00</td>\n",
       "      <td>0.0</td>\n",
       "      <td>0.4</td>\n",
       "      <td>0.333333</td>\n",
       "      <td>0.162162</td>\n",
       "      <td>0.5</td>\n",
       "      <td>0.0</td>\n",
       "      <td>0.0625</td>\n",
       "      <td>0.0</td>\n",
       "      <td>0.594266</td>\n",
       "    </tr>\n",
       "    <tr>\n",
       "      <th>4</th>\n",
       "      <td>0.083333</td>\n",
       "      <td>1.0</td>\n",
       "      <td>0.083333</td>\n",
       "      <td>0.00</td>\n",
       "      <td>0.2</td>\n",
       "      <td>0.4</td>\n",
       "      <td>0.333333</td>\n",
       "      <td>0.162162</td>\n",
       "      <td>0.5</td>\n",
       "      <td>0.0</td>\n",
       "      <td>0.0625</td>\n",
       "      <td>0.0</td>\n",
       "      <td>0.408123</td>\n",
       "    </tr>\n",
       "  </tbody>\n",
       "</table>\n",
       "</div>"
      ],
      "text/plain": [
       "   City_Code_Hospital  Hospital_region_code  \\\n",
       "0            0.166667                   0.0   \n",
       "1            0.333333                   0.0   \n",
       "2            0.000000                   0.5   \n",
       "3            0.083333                   1.0   \n",
       "4            0.083333                   1.0   \n",
       "\n",
       "   Available Extra Rooms in Hospital  Department  Ward_Type  \\\n",
       "0                           0.125000        0.00        0.0   \n",
       "1                           0.083333        0.00        0.2   \n",
       "2                           0.083333        0.25        0.2   \n",
       "3                           0.083333        0.00        0.0   \n",
       "4                           0.083333        0.00        0.2   \n",
       "\n",
       "   Ward_Facility_Code  Bed Grade  City_Code_Patient  Type of Admission  \\\n",
       "0                 0.0   0.333333           0.162162                0.0   \n",
       "1                 0.0   0.333333           0.162162                0.5   \n",
       "2                 0.2   0.333333           0.162162                0.5   \n",
       "3                 0.4   0.333333           0.162162                0.5   \n",
       "4                 0.4   0.333333           0.162162                0.5   \n",
       "\n",
       "   Severity of Illness  Visitors with Patient  Age  Admission_Deposit  \n",
       "0                  0.0                 0.0625  0.0           0.337858  \n",
       "1                  0.0                 0.0625  0.0           0.451129  \n",
       "2                  0.0                 0.0625  0.0           0.319831  \n",
       "3                  0.0                 0.0625  0.0           0.594266  \n",
       "4                  0.0                 0.0625  0.0           0.408123  "
      ]
     },
     "execution_count": 18,
     "metadata": {},
     "output_type": "execute_result"
    }
   ],
   "source": [
    "X_train_final = FeatureScaler(X_train)\n",
    "X_train_final.head()"
   ]
  },
  {
   "cell_type": "code",
   "execution_count": 19,
   "metadata": {
    "scrolled": false
   },
   "outputs": [
    {
     "data": {
      "text/html": [
       "<div>\n",
       "<style scoped>\n",
       "    .dataframe tbody tr th:only-of-type {\n",
       "        vertical-align: middle;\n",
       "    }\n",
       "\n",
       "    .dataframe tbody tr th {\n",
       "        vertical-align: top;\n",
       "    }\n",
       "\n",
       "    .dataframe thead th {\n",
       "        text-align: right;\n",
       "    }\n",
       "</style>\n",
       "<table border=\"1\" class=\"dataframe\">\n",
       "  <thead>\n",
       "    <tr style=\"text-align: right;\">\n",
       "      <th></th>\n",
       "      <th>City_Code_Hospital</th>\n",
       "      <th>Hospital_region_code</th>\n",
       "      <th>Available Extra Rooms in Hospital</th>\n",
       "      <th>Department</th>\n",
       "      <th>Ward_Type</th>\n",
       "      <th>Ward_Facility_Code</th>\n",
       "      <th>Bed Grade</th>\n",
       "      <th>City_Code_Patient</th>\n",
       "      <th>Type of Admission</th>\n",
       "      <th>Severity of Illness</th>\n",
       "      <th>Visitors with Patient</th>\n",
       "      <th>Age</th>\n",
       "      <th>Admission_Deposit</th>\n",
       "    </tr>\n",
       "  </thead>\n",
       "  <tbody>\n",
       "    <tr>\n",
       "      <th>0</th>\n",
       "      <td>0.166667</td>\n",
       "      <td>0.0</td>\n",
       "      <td>0.142857</td>\n",
       "      <td>0.0</td>\n",
       "      <td>0.0</td>\n",
       "      <td>0.0</td>\n",
       "      <td>0.333333</td>\n",
       "      <td>0.027027</td>\n",
       "      <td>0.0</td>\n",
       "      <td>0.0</td>\n",
       "      <td>0.06250</td>\n",
       "      <td>0.0</td>\n",
       "      <td>0.127964</td>\n",
       "    </tr>\n",
       "    <tr>\n",
       "      <th>1</th>\n",
       "      <td>0.250000</td>\n",
       "      <td>0.5</td>\n",
       "      <td>0.095238</td>\n",
       "      <td>0.0</td>\n",
       "      <td>0.0</td>\n",
       "      <td>0.2</td>\n",
       "      <td>0.333333</td>\n",
       "      <td>0.027027</td>\n",
       "      <td>0.5</td>\n",
       "      <td>0.0</td>\n",
       "      <td>0.12500</td>\n",
       "      <td>0.0</td>\n",
       "      <td>0.219170</td>\n",
       "    </tr>\n",
       "    <tr>\n",
       "      <th>2</th>\n",
       "      <td>0.083333</td>\n",
       "      <td>1.0</td>\n",
       "      <td>0.142857</td>\n",
       "      <td>0.0</td>\n",
       "      <td>0.2</td>\n",
       "      <td>0.4</td>\n",
       "      <td>1.000000</td>\n",
       "      <td>0.027027</td>\n",
       "      <td>0.0</td>\n",
       "      <td>0.0</td>\n",
       "      <td>0.09375</td>\n",
       "      <td>0.0</td>\n",
       "      <td>0.266008</td>\n",
       "    </tr>\n",
       "    <tr>\n",
       "      <th>3</th>\n",
       "      <td>0.416667</td>\n",
       "      <td>0.5</td>\n",
       "      <td>0.142857</td>\n",
       "      <td>0.0</td>\n",
       "      <td>0.2</td>\n",
       "      <td>0.2</td>\n",
       "      <td>0.333333</td>\n",
       "      <td>0.027027</td>\n",
       "      <td>0.5</td>\n",
       "      <td>0.0</td>\n",
       "      <td>0.09375</td>\n",
       "      <td>0.0</td>\n",
       "      <td>0.234486</td>\n",
       "    </tr>\n",
       "    <tr>\n",
       "      <th>4</th>\n",
       "      <td>0.833333</td>\n",
       "      <td>0.5</td>\n",
       "      <td>0.095238</td>\n",
       "      <td>0.0</td>\n",
       "      <td>0.4</td>\n",
       "      <td>0.2</td>\n",
       "      <td>0.333333</td>\n",
       "      <td>0.027027</td>\n",
       "      <td>0.5</td>\n",
       "      <td>0.0</td>\n",
       "      <td>0.12500</td>\n",
       "      <td>0.0</td>\n",
       "      <td>0.233300</td>\n",
       "    </tr>\n",
       "  </tbody>\n",
       "</table>\n",
       "</div>"
      ],
      "text/plain": [
       "   City_Code_Hospital  Hospital_region_code  \\\n",
       "0            0.166667                   0.0   \n",
       "1            0.250000                   0.5   \n",
       "2            0.083333                   1.0   \n",
       "3            0.416667                   0.5   \n",
       "4            0.833333                   0.5   \n",
       "\n",
       "   Available Extra Rooms in Hospital  Department  Ward_Type  \\\n",
       "0                           0.142857         0.0        0.0   \n",
       "1                           0.095238         0.0        0.0   \n",
       "2                           0.142857         0.0        0.2   \n",
       "3                           0.142857         0.0        0.2   \n",
       "4                           0.095238         0.0        0.4   \n",
       "\n",
       "   Ward_Facility_Code  Bed Grade  City_Code_Patient  Type of Admission  \\\n",
       "0                 0.0   0.333333           0.027027                0.0   \n",
       "1                 0.2   0.333333           0.027027                0.5   \n",
       "2                 0.4   1.000000           0.027027                0.0   \n",
       "3                 0.2   0.333333           0.027027                0.5   \n",
       "4                 0.2   0.333333           0.027027                0.5   \n",
       "\n",
       "   Severity of Illness  Visitors with Patient  Age  Admission_Deposit  \n",
       "0                  0.0                0.06250  0.0           0.127964  \n",
       "1                  0.0                0.12500  0.0           0.219170  \n",
       "2                  0.0                0.09375  0.0           0.266008  \n",
       "3                  0.0                0.09375  0.0           0.234486  \n",
       "4                  0.0                0.12500  0.0           0.233300  "
      ]
     },
     "execution_count": 19,
     "metadata": {},
     "output_type": "execute_result"
    }
   ],
   "source": [
    "X_test_final = FeatureScaler(X_test)\n",
    "X_test_final.head()"
   ]
  },
  {
   "cell_type": "markdown",
   "metadata": {},
   "source": [
    "### Feature Importance\n",
    "        Find best 10 features from datasets"
   ]
  },
  {
   "cell_type": "code",
   "execution_count": 20,
   "metadata": {},
   "outputs": [
    {
     "data": {
      "text/plain": [
       "ExtraTreesRegressor()"
      ]
     },
     "execution_count": 20,
     "metadata": {},
     "output_type": "execute_result"
    }
   ],
   "source": [
    "# Let's call Extra Trees Regressor function\n",
    "feature_imp = ExtraTreesRegressor()\n",
    "feature_imp.fit(X_train_final, y_train)"
   ]
  },
  {
   "cell_type": "code",
   "execution_count": 21,
   "metadata": {},
   "outputs": [
    {
     "data": {
      "text/plain": [
       "array([0.03635987, 0.01608882, 0.09421072, 0.04957697, 0.05241776,\n",
       "       0.02253378, 0.04637571, 0.13084094, 0.01643378, 0.02035483,\n",
       "       0.09442701, 0.13094239, 0.28943743])"
      ]
     },
     "execution_count": 21,
     "metadata": {},
     "output_type": "execute_result"
    }
   ],
   "source": [
    "# Let's show the list of feature importance\n",
    "feature_imp.feature_importances_"
   ]
  },
  {
   "cell_type": "code",
   "execution_count": 23,
   "metadata": {},
   "outputs": [
    {
     "data": {
      "image/png": "[encoded data removed]",
      "text/plain": [
       "<Figure size 432x288 with 1 Axes>"
      ]
     },
     "metadata": {
      "needs_background": "light"
     },
     "output_type": "display_data"
    }
   ],
   "source": [
    "# Let's show a plot of ten (10) features\n",
    "feature_importance = pd.Series(feature_imp.feature_importances_, index=X_train_final.columns)\n",
    "feature_importance.nlargest(10).plot(kind='barh')\n",
    "plt.show()"
   ]
  },
  {
   "cell_type": "markdown",
   "metadata": {},
   "source": [
    "### Create Model with Random Forest Classifier"
   ]
  },
  {
   "cell_type": "code",
   "execution_count": 24,
   "metadata": {},
   "outputs": [
    {
     "data": {
      "text/plain": [
       "RandomForestClassifier()"
      ]
     },
     "execution_count": 24,
     "metadata": {},
     "output_type": "execute_result"
    }
   ],
   "source": [
    "# Create model\n",
    "stay_predict = RandomForestClassifier()\n",
    "stay_predict.fit(X_train_final, y_train)"
   ]
  },
  {
   "cell_type": "code",
   "execution_count": 25,
   "metadata": {},
   "outputs": [
    {
     "data": {
      "text/plain": [
       "array([0, 4, 3, ..., 3, 3, 2], dtype=int64)"
      ]
     },
     "execution_count": 25,
     "metadata": {},
     "output_type": "execute_result"
    }
   ],
   "source": [
    "# Let's test the model\n",
    "y_test = stay_predict.predict(X_test_final)\n",
    "y_test"
   ]
  },
  {
   "cell_type": "code",
   "execution_count": 39,
   "metadata": {},
   "outputs": [],
   "source": [
    "predection_df = pd.DataFrame()\n",
    "predection_df['case_id'] = test_df['case_id'] # case_id would be needed for submission file\n",
    "predection_df['Stay'] = y_test\n",
    "\n",
    "decode_prediction = { 0 : '0-10', 1 : '0-10', 2 : '11-20', 3 : '21-30', 4 : '31-40', 5 : '41-50', 6 : '51-60', 7 : '61-70'\n",
    "            ,8 : '71-80', 9 : '81-90', 10 : '91-100', 11 : 'More than 100 Days'}\n",
    "\n",
    "predection_df['Stay'] = predection_df['Stay'].map(decode_prediction)"
   ]
  },
  {
   "cell_type": "code",
   "execution_count": 40,
   "metadata": {},
   "outputs": [
    {
     "data": {
      "text/html": [
       "<div>\n",
       "<style scoped>\n",
       "    .dataframe tbody tr th:only-of-type {\n",
       "        vertical-align: middle;\n",
       "    }\n",
       "\n",
       "    .dataframe tbody tr th {\n",
       "        vertical-align: top;\n",
       "    }\n",
       "\n",
       "    .dataframe thead th {\n",
       "        text-align: right;\n",
       "    }\n",
       "</style>\n",
       "<table border=\"1\" class=\"dataframe\">\n",
       "  <thead>\n",
       "    <tr style=\"text-align: right;\">\n",
       "      <th></th>\n",
       "      <th>case_id</th>\n",
       "      <th>Stay</th>\n",
       "    </tr>\n",
       "  </thead>\n",
       "  <tbody>\n",
       "    <tr>\n",
       "      <th>0</th>\n",
       "      <td>318439</td>\n",
       "      <td>0-10</td>\n",
       "    </tr>\n",
       "    <tr>\n",
       "      <th>1</th>\n",
       "      <td>318440</td>\n",
       "      <td>31-40</td>\n",
       "    </tr>\n",
       "    <tr>\n",
       "      <th>2</th>\n",
       "      <td>318441</td>\n",
       "      <td>21-30</td>\n",
       "    </tr>\n",
       "    <tr>\n",
       "      <th>3</th>\n",
       "      <td>318442</td>\n",
       "      <td>41-50</td>\n",
       "    </tr>\n",
       "    <tr>\n",
       "      <th>4</th>\n",
       "      <td>318443</td>\n",
       "      <td>41-50</td>\n",
       "    </tr>\n",
       "  </tbody>\n",
       "</table>\n",
       "</div>"
      ],
      "text/plain": [
       "   case_id   Stay\n",
       "0   318439   0-10\n",
       "1   318440  31-40\n",
       "2   318441  21-30\n",
       "3   318442  41-50\n",
       "4   318443  41-50"
      ]
     },
     "execution_count": 40,
     "metadata": {},
     "output_type": "execute_result"
    }
   ],
   "source": [
    "predection_df.head()"
   ]
  },
  {
   "cell_type": "code",
   "execution_count": null,
   "metadata": {
    "scrolled": true
   },
   "outputs": [],
   "source": [
    "stay_predict.score(X_train_final, y_train)"
   ]
  },
  {
   "cell_type": "code",
   "execution_count": null,
   "metadata": {},
   "outputs": [],
   "source": [
    "score = cross_val_score(stay_predict, X_train_final, y_train.ravel(), cv=10)\n",
    "score.mean()"
   ]
  },
  {
   "cell_type": "markdown",
   "metadata": {},
   "source": [
    "##### Create a submission File"
   ]
  },
  {
   "cell_type": "code",
   "execution_count": 41,
   "metadata": {
    "scrolled": true
   },
   "outputs": [
    {
     "data": {
      "text/html": [
       "<div>\n",
       "<style scoped>\n",
       "    .dataframe tbody tr th:only-of-type {\n",
       "        vertical-align: middle;\n",
       "    }\n",
       "\n",
       "    .dataframe tbody tr th {\n",
       "        vertical-align: top;\n",
       "    }\n",
       "\n",
       "    .dataframe thead th {\n",
       "        text-align: right;\n",
       "    }\n",
       "</style>\n",
       "<table border=\"1\" class=\"dataframe\">\n",
       "  <thead>\n",
       "    <tr style=\"text-align: right;\">\n",
       "      <th></th>\n",
       "      <th>case_id</th>\n",
       "      <th>Stay</th>\n",
       "    </tr>\n",
       "  </thead>\n",
       "  <tbody>\n",
       "    <tr>\n",
       "      <th>0</th>\n",
       "      <td>318439</td>\n",
       "      <td>0-10</td>\n",
       "    </tr>\n",
       "    <tr>\n",
       "      <th>1</th>\n",
       "      <td>318440</td>\n",
       "      <td>31-40</td>\n",
       "    </tr>\n",
       "    <tr>\n",
       "      <th>2</th>\n",
       "      <td>318441</td>\n",
       "      <td>21-30</td>\n",
       "    </tr>\n",
       "    <tr>\n",
       "      <th>3</th>\n",
       "      <td>318442</td>\n",
       "      <td>41-50</td>\n",
       "    </tr>\n",
       "    <tr>\n",
       "      <th>4</th>\n",
       "      <td>318443</td>\n",
       "      <td>41-50</td>\n",
       "    </tr>\n",
       "  </tbody>\n",
       "</table>\n",
       "</div>"
      ],
      "text/plain": [
       "   case_id   Stay\n",
       "0   318439   0-10\n",
       "1   318440  31-40\n",
       "2   318441  21-30\n",
       "3   318442  41-50\n",
       "4   318443  41-50"
      ]
     },
     "execution_count": 41,
     "metadata": {},
     "output_type": "execute_result"
    }
   ],
   "source": [
    "submission = predection_df.copy()\n",
    "submission.head()"
   ]
  },
  {
   "cell_type": "markdown",
   "metadata": {},
   "source": [
    "##### Thanks"
   ]
  }
 ],
 "metadata": {
  "kernelspec": {
   "display_name": "Python 3",
   "language": "python",
   "name": "python3"
  },
  "language_info": {
   "codemirror_mode": {
    "name": "ipython",
    "version": 3
   },
   "file_extension": ".py",
   "mimetype": "text/x-python",
   "name": "python",
   "nbconvert_exporter": "python",
   "pygments_lexer": "ipython3",
   "version": "3.8.0"
  }
 },
 "nbformat": 4,
 "nbformat_minor": 4
}
